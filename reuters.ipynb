{
 "cells": [
  {
   "cell_type": "markdown",
   "metadata": {},
   "source": [
    "## 加载路透社数据集"
   ]
  },
  {
   "cell_type": "code",
   "execution_count": 2,
   "metadata": {},
   "outputs": [
    {
     "name": "stdout",
     "output_type": "stream",
     "text": [
      "Downloading data from https://s3.amazonaws.com/text-datasets/reuters.npz\n",
      "2113536/2110848 [==============================] - 2s 1us/step\n"
     ]
    }
   ],
   "source": [
    "from keras.datasets import reuters\n",
    "\n",
    "(train_data, train_labels), (test_data, test_labels) = reuters.load_data(num_words=10000)"
   ]
  },
  {
   "cell_type": "code",
   "execution_count": 3,
   "metadata": {},
   "outputs": [
    {
     "data": {
      "text/plain": [
       "8982"
      ]
     },
     "execution_count": 3,
     "metadata": {},
     "output_type": "execute_result"
    }
   ],
   "source": [
    "len(train_data)"
   ]
  },
  {
   "cell_type": "code",
   "execution_count": 4,
   "metadata": {},
   "outputs": [
    {
     "data": {
      "text/plain": [
       "2246"
      ]
     },
     "execution_count": 4,
     "metadata": {},
     "output_type": "execute_result"
    }
   ],
   "source": [
    "len(test_data)"
   ]
  },
  {
   "cell_type": "code",
   "execution_count": 5,
   "metadata": {},
   "outputs": [
    {
     "data": {
      "text/plain": [
       "[1,\n",
       " 245,\n",
       " 273,\n",
       " 207,\n",
       " 156,\n",
       " 53,\n",
       " 74,\n",
       " 160,\n",
       " 26,\n",
       " 14,\n",
       " 46,\n",
       " 296,\n",
       " 26,\n",
       " 39,\n",
       " 74,\n",
       " 2979,\n",
       " 3554,\n",
       " 14,\n",
       " 46,\n",
       " 4689,\n",
       " 4329,\n",
       " 86,\n",
       " 61,\n",
       " 3499,\n",
       " 4795,\n",
       " 14,\n",
       " 61,\n",
       " 451,\n",
       " 4329,\n",
       " 17,\n",
       " 12]"
      ]
     },
     "execution_count": 5,
     "metadata": {},
     "output_type": "execute_result"
    }
   ],
   "source": [
    "train_data[10]"
   ]
  },
  {
   "cell_type": "markdown",
   "metadata": {},
   "source": [
    "## 将索引解码为新闻文本"
   ]
  },
  {
   "cell_type": "code",
   "execution_count": 8,
   "metadata": {},
   "outputs": [],
   "source": [
    "word_index = reuters.get_word_index()\n",
    "reverse_word_index = dict([(value, key) for (key, value) in word_index.items()])\n",
    "\n",
    "# 注意，索引减去了 3，因为 0、1、2 是为“padding”（填充）、“start of sequence”（序列开始）、“unknown”（未知词）分别保留的索引\n",
    "decoded_newswire = ' '.join([reverse_word_index.get(i - 3, '?') for i in train_data[0]])"
   ]
  },
  {
   "cell_type": "code",
   "execution_count": 12,
   "metadata": {},
   "outputs": [
    {
     "data": {
      "text/plain": [
       "3"
      ]
     },
     "execution_count": 12,
     "metadata": {},
     "output_type": "execute_result"
    }
   ],
   "source": [
    "train_labels[10]"
   ]
  },
  {
   "cell_type": "markdown",
   "metadata": {},
   "source": [
    "## 编码数据"
   ]
  },
  {
   "cell_type": "code",
   "execution_count": 23,
   "metadata": {},
   "outputs": [],
   "source": [
    "import numpy as np\n",
    "\n",
    "def veictorize_sequences(sequences, dimension=10000):\n",
    "    results = np.zeros((len(sequences), dimension))\n",
    "    for i, sequence in enumerate(sequences):\n",
    "        results[i, sequence] = 1.\n",
    "    return results"
   ]
  },
  {
   "cell_type": "code",
   "execution_count": 149,
   "metadata": {},
   "outputs": [
    {
     "name": "stdout",
     "output_type": "stream",
     "text": [
      "[[1. 2. 1. 1. 1. 1. 1. 1. 1. 1.]\n",
      " [0. 0. 3. 0. 0. 0. 0. 0. 0. 0.]\n",
      " [0. 0. 0. 0. 0. 0. 0. 0. 0. 0.]] \n",
      "\n",
      "[[0 3 3 1]\n",
      " [2 1 2 2]\n",
      " [0 1 0 3]] \n",
      "\n",
      "[[0. 1. 1. 0.]\n",
      " [0. 0. 0. 0.]\n",
      " [0. 0. 0. 0.]]\n"
     ]
    }
   ],
   "source": [
    "# 正文无关，个人试试 numpy 数组转换的一些过程（容易搞混）\n",
    "tmp = np.zeros((3, 10))\n",
    "tmp[0] = 1\n",
    "tmp[0][1] = 2\n",
    "tmp[1, 2] = 3\n",
    "print(tmp, '\\n')\n",
    "\n",
    "tmp = np.random.randint(4, size=(3,4))\n",
    "print(tmp, '\\n')\n",
    "\n",
    "# rrrr = np.zeros((3,4))\n",
    "# for i, s in enumerate(tmp):\n",
    "#     rrrr[i,s] = 1.\n",
    "# print(rrrr, '\\n')\n",
    "\n",
    "# 其实很简单，就是用 one-hot 编码，初始化形状和 tmp 一样的全零(向量?张量?)\n",
    "# 这里举个例子 tmp[1]=[2 1 2 2]，rrrr[0, tmp[1]] 就是让：\n",
    "# rrrr[0,2] = 1. | rrrr[0,1] = 1. | rrrr[0,2] = 1. | rrrr[0,2] = 1.\n",
    "# 覆盖在 [0 0 0 0] 就是 [0. 1. 1. 0.]\n",
    "rrrr = np.zeros((3,4))\n",
    "rrrr[0, tmp[1]] = 1.\n",
    "print(rrrr)"
   ]
  },
  {
   "cell_type": "markdown",
   "metadata": {},
   "source": [
    "x_train = vectorize_sequences(train_data)  # 将训练标签向量化\n",
    "x_test = vectorize_sequences(test_data)    # 将测试标签向量化"
   ]
  },
  {
   "cell_type": "code",
   "execution_count": 101,
   "metadata": {},
   "outputs": [],
   "source": [
    "# 将标签向量化有两种方法：可以将标签列表转换为整数张量，或用one-hot编码。\n",
    "# one-hot编码是分类数据广泛使用的一种格式，也叫分类编码（categorical encoding）。\n",
    "# 详细解释请看书，这个例子中，one-hot 编码就是将每个标签表示为全零向量，只有标签索引对应的元素为1\n",
    "\n",
    "def to_one_hot(labels, dimension=46):\n",
    "    results = np.zeros((len(labels), dimension))\n",
    "    for i, label in enumerate(labels):\n",
    "        results[i, label] = 1.\n",
    "    return results\n",
    "\n",
    "one_hot_train_labels = to_one_hot(train_labels)\n",
    "one_hot_test_labels = to_one_hot(test_labels)"
   ]
  },
  {
   "cell_type": "code",
   "execution_count": 100,
   "metadata": {},
   "outputs": [],
   "source": [
    "# 注意，Keras 内置方法可以实现这个操作（如上），在 MNIST 例子中已经见过这种方法\n",
    "\n",
    "from keras.utils.np_utils import to_categorical\n",
    "\n",
    "one_hot_train_labels = to_categorical(train_labels)\n",
    "one_hot_test_labels = to_categorical(test_labels)"
   ]
  },
  {
   "cell_type": "markdown",
   "metadata": {},
   "source": [
    "## 模型定义"
   ]
  },
  {
   "cell_type": "code",
   "execution_count": 103,
   "metadata": {},
   "outputs": [],
   "source": [
    "from keras import models\n",
    "from keras import layers\n",
    "\n",
    "model = models.Sequential()\n",
    "model.add(layers.Dense(64, activation='relu', input_shape=(10000,)))\n",
    "model.add(layers.Dense(64, activation='relu'))\n",
    "model.add(layers.Dense(46, activation='softmax'))"
   ]
  },
  {
   "cell_type": "markdown",
   "metadata": {},
   "source": [
    "## 编译模型"
   ]
  },
  {
   "cell_type": "code",
   "execution_count": 106,
   "metadata": {},
   "outputs": [],
   "source": [
    "model.compile(optimizer='rmsprop',\n",
    "              loss='categorical_crossentropy',\n",
    "              metrics=['accuracy'])"
   ]
  },
  {
   "cell_type": "markdown",
   "metadata": {},
   "source": [
    "## 留出验证集"
   ]
  },
  {
   "cell_type": "code",
   "execution_count": 107,
   "metadata": {},
   "outputs": [],
   "source": [
    "# 留出 1000 个样本作为验证集\n",
    "\n",
    "x_val = x_train[:1000]\n",
    "partial_x_train = x_train[1000:]\n",
    "\n",
    "y_val = one_hot_train_labels[:1000]\n",
    "partial_y_train = one_hot_train_labels[1000:]"
   ]
  },
  {
   "cell_type": "markdown",
   "metadata": {},
   "source": [
    "## 训练模型"
   ]
  },
  {
   "cell_type": "code",
   "execution_count": 108,
   "metadata": {},
   "outputs": [
    {
     "name": "stdout",
     "output_type": "stream",
     "text": [
      "Train on 7982 samples, validate on 1000 samples\n",
      "Epoch 1/20\n",
      "7982/7982 [==============================] - 1s 147us/step - loss: 2.6795 - acc: 0.5073 - val_loss: 1.7595 - val_acc: 0.6360\n",
      "Epoch 2/20\n",
      "7982/7982 [==============================] - 1s 115us/step - loss: 1.4417 - acc: 0.7023 - val_loss: 1.2969 - val_acc: 0.7220\n",
      "Epoch 3/20\n",
      "7982/7982 [==============================] - 1s 127us/step - loss: 1.0662 - acc: 0.7701 - val_loss: 1.1213 - val_acc: 0.7590\n",
      "Epoch 4/20\n",
      "7982/7982 [==============================] - 1s 118us/step - loss: 0.8406 - acc: 0.8206 - val_loss: 1.0317 - val_acc: 0.7860\n",
      "Epoch 5/20\n",
      "7982/7982 [==============================] - 1s 125us/step - loss: 0.6696 - acc: 0.8548 - val_loss: 0.9808 - val_acc: 0.7970\n",
      "Epoch 6/20\n",
      "7982/7982 [==============================] - 1s 116us/step - loss: 0.5361 - acc: 0.8880 - val_loss: 0.9528 - val_acc: 0.8010\n",
      "Epoch 7/20\n",
      "7982/7982 [==============================] - 1s 122us/step - loss: 0.4295 - acc: 0.9095 - val_loss: 0.9283 - val_acc: 0.8230\n",
      "Epoch 8/20\n",
      "7982/7982 [==============================] - 1s 120us/step - loss: 0.3511 - acc: 0.9245 - val_loss: 0.9103 - val_acc: 0.8100\n",
      "Epoch 9/20\n",
      "7982/7982 [==============================] - 1s 119us/step - loss: 0.2891 - acc: 0.9365 - val_loss: 0.9126 - val_acc: 0.8190\n",
      "Epoch 10/20\n",
      "7982/7982 [==============================] - 1s 122us/step - loss: 0.2488 - acc: 0.9419 - val_loss: 0.9155 - val_acc: 0.8180\n",
      "Epoch 11/20\n",
      "7982/7982 [==============================] - 1s 121us/step - loss: 0.2132 - acc: 0.9474 - val_loss: 0.9307 - val_acc: 0.8170\n",
      "Epoch 12/20\n",
      "7982/7982 [==============================] - 1s 118us/step - loss: 0.1839 - acc: 0.9515 - val_loss: 0.9734 - val_acc: 0.8070\n",
      "Epoch 13/20\n",
      "7982/7982 [==============================] - 1s 120us/step - loss: 0.1652 - acc: 0.9521 - val_loss: 0.9793 - val_acc: 0.8180\n",
      "Epoch 14/20\n",
      "7982/7982 [==============================] - 1s 114us/step - loss: 0.1547 - acc: 0.9546 - val_loss: 0.9555 - val_acc: 0.8220\n",
      "Epoch 15/20\n",
      "7982/7982 [==============================] - 1s 115us/step - loss: 0.1447 - acc: 0.9539 - val_loss: 1.0178 - val_acc: 0.8080\n",
      "Epoch 16/20\n",
      "7982/7982 [==============================] - 1s 118us/step - loss: 0.1323 - acc: 0.9564 - val_loss: 1.0959 - val_acc: 0.7890\n",
      "Epoch 17/20\n",
      "7982/7982 [==============================] - 1s 115us/step - loss: 0.1273 - acc: 0.9574 - val_loss: 1.0330 - val_acc: 0.8140\n",
      "Epoch 18/20\n",
      "7982/7982 [==============================] - 1s 124us/step - loss: 0.1198 - acc: 0.9560 - val_loss: 1.1223 - val_acc: 0.7900\n",
      "Epoch 19/20\n",
      "7982/7982 [==============================] - 1s 129us/step - loss: 0.1204 - acc: 0.9574 - val_loss: 1.0656 - val_acc: 0.8040\n",
      "Epoch 20/20\n",
      "7982/7982 [==============================] - 1s 119us/step - loss: 0.1156 - acc: 0.9553 - val_loss: 1.1185 - val_acc: 0.7950\n"
     ]
    }
   ],
   "source": [
    "# 开始训练网络，共 20 个轮次\n",
    "\n",
    "history = model.fit(partial_x_train,\n",
    "                    partial_y_train,\n",
    "                    epochs=20,\n",
    "                    batch_size=512,\n",
    "                    validation_data=(x_val, y_val))"
   ]
  },
  {
   "cell_type": "markdown",
   "metadata": {},
   "source": [
    "## 绘制训练损失和验证损失"
   ]
  },
  {
   "cell_type": "code",
   "execution_count": 110,
   "metadata": {},
   "outputs": [
    {
     "data": {
      "image/png": "[encoded data removed]",
      "text/plain": [
       "<Figure size 432x288 with 1 Axes>"
      ]
     },
     "metadata": {
      "needs_background": "light"
     },
     "output_type": "display_data"
    }
   ],
   "source": [
    "import matplotlib.pyplot as plt\n",
    "\n",
    "loss = history.history['loss']\n",
    "val_loss = history.history['val_loss']\n",
    "\n",
    "epochs = range(1, len(loss) + 1)\n",
    "\n",
    "plt.plot(epochs, loss, 'go', label='Training loss')\n",
    "plt.plot(epochs, val_loss, 'b', label='Validation loss')\n",
    "plt.title('Training and validation loss')\n",
    "plt.xlabel('Epochs')\n",
    "plt.ylabel('Loss')\n",
    "plt.legend()\n",
    "\n",
    "plt.show()"
   ]
  },
  {
   "cell_type": "markdown",
   "metadata": {},
   "source": [
    "## 绘制训练精度和验证精度"
   ]
  },
  {
   "cell_type": "code",
   "execution_count": 111,
   "metadata": {},
   "outputs": [
    {
     "data": {
      "image/png": "[encoded data removed]",
      "text/plain": [
       "<Figure size 432x288 with 1 Axes>"
      ]
     },
     "metadata": {
      "needs_background": "light"
     },
     "output_type": "display_data"
    }
   ],
   "source": [
    "plt.clf()\n",
    "\n",
    "acc = history.history['acc']\n",
    "val_acc = history.history['val_acc']\n",
    "\n",
    "plt.plot(epochs, acc, 'go', label='Training acc')\n",
    "plt.plot(epochs, val_acc, 'b', label='Validation acc')\n",
    "plt.title('Training and validation accuracy')\n",
    "plt.xlabel('Epochs')\n",
    "plt.ylabel('Accuracy')\n",
    "plt.legend()\n",
    "\n",
    "plt.show()"
   ]
  },
  {
   "cell_type": "code",
   "execution_count": null,
   "metadata": {},
   "outputs": [],
   "source": [
    "## 网络在训练9轮后开始过拟合，我们从头开始训练一个新网络，共9个轮次，然后在测试集上评估模型"
   ]
  },
  {
   "cell_type": "markdown",
   "metadata": {},
   "source": [
    "## 从头开始重新训练一个模型"
   ]
  },
  {
   "cell_type": "code",
   "execution_count": 113,
   "metadata": {},
   "outputs": [
    {
     "name": "stdout",
     "output_type": "stream",
     "text": [
      "Train on 7982 samples, validate on 1000 samples\n",
      "Epoch 1/9\n",
      "7982/7982 [==============================] - 1s 116us/step - loss: 2.5749 - acc: 0.5332 - val_loss: 1.7438 - val_acc: 0.6640\n",
      "Epoch 2/9\n",
      "7982/7982 [==============================] - 1s 87us/step - loss: 1.4088 - acc: 0.7121 - val_loss: 1.3122 - val_acc: 0.7220\n",
      "Epoch 3/9\n",
      "7982/7982 [==============================] - 1s 90us/step - loss: 1.0423 - acc: 0.7781 - val_loss: 1.1363 - val_acc: 0.7590\n",
      "Epoch 4/9\n",
      "7982/7982 [==============================] - 1s 88us/step - loss: 0.8165 - acc: 0.8301 - val_loss: 1.0395 - val_acc: 0.7740\n",
      "Epoch 5/9\n",
      "7982/7982 [==============================] - 1s 89us/step - loss: 0.6458 - acc: 0.8673 - val_loss: 0.9675 - val_acc: 0.7970\n",
      "Epoch 6/9\n",
      "7982/7982 [==============================] - 1s 92us/step - loss: 0.5148 - acc: 0.8976 - val_loss: 0.9376 - val_acc: 0.8020\n",
      "Epoch 7/9\n",
      "7982/7982 [==============================] - 1s 88us/step - loss: 0.4150 - acc: 0.9158 - val_loss: 0.9020 - val_acc: 0.8120\n",
      "Epoch 8/9\n",
      "7982/7982 [==============================] - 1s 91us/step - loss: 0.3355 - acc: 0.9267 - val_loss: 0.9165 - val_acc: 0.8040\n",
      "Epoch 9/9\n",
      "7982/7982 [==============================] - 1s 90us/step - loss: 0.2770 - acc: 0.9380 - val_loss: 0.9165 - val_acc: 0.8100\n",
      "2246/2246 [==============================] - 0s 110us/step\n"
     ]
    }
   ],
   "source": [
    "model = models.Sequential()\n",
    "model.add(layers.Dense(64, activation='relu', input_shape=(10000,)))\n",
    "model.add(layers.Dense(64, activation='relu'))\n",
    "model.add(layers.Dense(46, activation='softmax'))\n",
    "\n",
    "model.compile(optimizer='rmsprop',\n",
    "              loss='categorical_crossentropy',\n",
    "              metrics=['accuracy'])\n",
    "model.fit(partial_x_train,\n",
    "          partial_y_train,\n",
    "          epochs=9,\n",
    "          batch_size=512,\n",
    "          validation_data=(x_val, y_val))\n",
    "results = model.evaluate(x_test, one_hot_test_labels)"
   ]
  },
  {
   "cell_type": "code",
   "execution_count": 114,
   "metadata": {},
   "outputs": [
    {
     "data": {
      "text/plain": [
       "[0.9972119893968264, 0.7871772039180766]"
      ]
     },
     "execution_count": 114,
     "metadata": {},
     "output_type": "execute_result"
    }
   ],
   "source": [
    "# 返回数组前面是loss，后面是acc，0.99在这测试集里应该不算大\n",
    "results"
   ]
  },
  {
   "cell_type": "code",
   "execution_count": 143,
   "metadata": {},
   "outputs": [
    {
     "name": "stdout",
     "output_type": "stream",
     "text": [
      "1\n",
      "0.18388245770258238\n"
     ]
    }
   ],
   "source": [
    "# 上面训练得到约80%的精度。对于平衡的二分类问题，完全随机的分类器能得到50%的精度。\n",
    "# 但在这个例子里，完全随机的精度约为19%，所以上述结果相当不错，至少和随机的基准比起来还不错\n",
    "\n",
    "import copy\n",
    "test_labels_copy = copy.copy(test_labels)\n",
    "\n",
    "# shuffle 是打乱顺序，多维矩阵中，只对第一维（行）做打乱顺序操作：\n",
    "np.random.shuffle(test_labels_copy)\n",
    "hits_array = np.array(test_labels) == np.array(test_labels_copy)\n",
    "\n",
    "# 下一行代码其实就是两个形状一样的 array 逐个元素比较，然后生成一个包含比对结果（True 或 False）形状一样的 array\n",
    "print(np.sum(np.array([1,2]) == np.array([1,3])))\n",
    "\n",
    "print(float(np.sum(hits_array)) / len(test_labels))"
   ]
  },
  {
   "cell_type": "code",
   "execution_count": 153,
   "metadata": {},
   "outputs": [
    {
     "data": {
      "text/plain": [
       "array([0., 1., 1., ..., 0., 0., 0.])"
      ]
     },
     "execution_count": 153,
     "metadata": {},
     "output_type": "execute_result"
    }
   ],
   "source": [
    "x_test[1]"
   ]
  },
  {
   "cell_type": "code",
   "execution_count": 155,
   "metadata": {},
   "outputs": [
    {
     "data": {
      "text/plain": [
       "array([0., 0., 0., 1., 0., 0., 0., 0., 0., 0., 0., 0., 0., 0., 0., 0., 0.,\n",
       "       0., 0., 0., 0., 0., 0., 0., 0., 0., 0., 0., 0., 0., 0., 0., 0., 0.,\n",
       "       0., 0., 0., 0., 0., 0., 0., 0., 0., 0., 0., 0.])"
      ]
     },
     "execution_count": 155,
     "metadata": {},
     "output_type": "execute_result"
    }
   ],
   "source": [
    "one_hot_test_labels[0]"
   ]
  },
  {
   "cell_type": "code",
   "execution_count": 156,
   "metadata": {},
   "outputs": [
    {
     "data": {
      "text/plain": [
       "array([ 3, 13,  4, ...,  3, 20,  3])"
      ]
     },
     "execution_count": 156,
     "metadata": {},
     "output_type": "execute_result"
    }
   ],
   "source": [
    "test_labels"
   ]
  },
  {
   "cell_type": "code",
   "execution_count": 157,
   "metadata": {},
   "outputs": [
    {
     "data": {
      "text/plain": [
       "array([[0., 0., 0., ..., 0., 0., 0.],\n",
       "       [0., 0., 0., ..., 0., 0., 0.],\n",
       "       [0., 1., 0., ..., 0., 0., 0.],\n",
       "       ...,\n",
       "       [0., 0., 0., ..., 0., 0., 0.],\n",
       "       [0., 0., 0., ..., 0., 0., 0.],\n",
       "       [0., 0., 0., ..., 0., 0., 0.]])"
      ]
     },
     "execution_count": 157,
     "metadata": {},
     "output_type": "execute_result"
    }
   ],
   "source": [
    "one_hot_test_labels"
   ]
  },
  {
   "cell_type": "markdown",
   "metadata": {},
   "source": [
    "## 在新数据上生成预测结果"
   ]
  },
  {
   "cell_type": "code",
   "execution_count": 161,
   "metadata": {},
   "outputs": [
    {
     "data": {
      "text/plain": [
       "(46,)"
      ]
     },
     "execution_count": 161,
     "metadata": {},
     "output_type": "execute_result"
    }
   ],
   "source": [
    "predictions = model.predict(x_test)\n",
    "\n",
    "# predictions中的每个元素都是长度为46的向量\n",
    "predictions[0].shape"
   ]
  },
  {
   "cell_type": "code",
   "execution_count": 164,
   "metadata": {},
   "outputs": [
    {
     "data": {
      "text/plain": [
       "0.9999998"
      ]
     },
     "execution_count": 164,
     "metadata": {},
     "output_type": "execute_result"
    }
   ],
   "source": [
    "# 这个向量的所有元素总和是1\n",
    "np.sum(predictions[0])"
   ]
  },
  {
   "cell_type": "code",
   "execution_count": 167,
   "metadata": {},
   "outputs": [
    {
     "data": {
      "text/plain": [
       "3"
      ]
     },
     "execution_count": 167,
     "metadata": {},
     "output_type": "execute_result"
    }
   ],
   "source": [
    "# 最大的元素就是预测类别，即概率最大的类别\n",
    "np.argmax(predictions[0])"
   ]
  },
  {
   "cell_type": "markdown",
   "metadata": {},
   "source": [
    "## 具有信息瓶颈的模型"
   ]
  },
  {
   "cell_type": "code",
   "execution_count": 169,
   "metadata": {},
   "outputs": [
    {
     "name": "stdout",
     "output_type": "stream",
     "text": [
      "Train on 7982 samples, validate on 1000 samples\n",
      "Epoch 1/20\n",
      "7982/7982 [==============================] - 1s 122us/step - loss: 3.5899 - acc: 0.2742 - val_loss: 3.3787 - val_acc: 0.3260\n",
      "Epoch 2/20\n",
      "7982/7982 [==============================] - 1s 85us/step - loss: 3.0670 - acc: 0.3477 - val_loss: 2.8914 - val_acc: 0.3060\n",
      "Epoch 3/20\n",
      "7982/7982 [==============================] - 1s 87us/step - loss: 2.5381 - acc: 0.3183 - val_loss: 2.5064 - val_acc: 0.2970\n",
      "Epoch 4/20\n",
      "7982/7982 [==============================] - 1s 88us/step - loss: 2.1288 - acc: 0.3494 - val_loss: 2.1172 - val_acc: 0.3330\n",
      "Epoch 5/20\n",
      "7982/7982 [==============================] - 1s 88us/step - loss: 1.6110 - acc: 0.4648 - val_loss: 1.6660 - val_acc: 0.6510\n",
      "Epoch 6/20\n",
      "7982/7982 [==============================] - 1s 87us/step - loss: 1.2287 - acc: 0.7186 - val_loss: 1.4793 - val_acc: 0.6660\n",
      "Epoch 7/20\n",
      "7982/7982 [==============================] - 1s 87us/step - loss: 1.0788 - acc: 0.7285 - val_loss: 1.4785 - val_acc: 0.6680\n",
      "Epoch 8/20\n",
      "7982/7982 [==============================] - 1s 92us/step - loss: 0.9969 - acc: 0.7430 - val_loss: 1.4671 - val_acc: 0.6800\n",
      "Epoch 9/20\n",
      "7982/7982 [==============================] - 1s 96us/step - loss: 0.9381 - acc: 0.7532 - val_loss: 1.5331 - val_acc: 0.6800\n",
      "Epoch 10/20\n",
      "7982/7982 [==============================] - 1s 89us/step - loss: 0.8870 - acc: 0.7608 - val_loss: 1.5610 - val_acc: 0.6750\n",
      "Epoch 11/20\n",
      "7982/7982 [==============================] - 1s 94us/step - loss: 0.8474 - acc: 0.7636 - val_loss: 1.5940 - val_acc: 0.6700\n",
      "Epoch 12/20\n",
      "7982/7982 [==============================] - 1s 94us/step - loss: 0.8106 - acc: 0.7679 - val_loss: 1.6051 - val_acc: 0.6740\n",
      "Epoch 13/20\n",
      "7982/7982 [==============================] - 1s 95us/step - loss: 0.7821 - acc: 0.7790 - val_loss: 1.6247 - val_acc: 0.6770\n",
      "Epoch 14/20\n",
      "7982/7982 [==============================] - 1s 93us/step - loss: 0.7538 - acc: 0.7876 - val_loss: 1.6908 - val_acc: 0.6770\n",
      "Epoch 15/20\n",
      "7982/7982 [==============================] - 1s 95us/step - loss: 0.7284 - acc: 0.7932 - val_loss: 1.7372 - val_acc: 0.6680\n",
      "Epoch 16/20\n",
      "7982/7982 [==============================] - 1s 92us/step - loss: 0.7054 - acc: 0.7964 - val_loss: 1.8106 - val_acc: 0.6670\n",
      "Epoch 17/20\n",
      "7982/7982 [==============================] - 1s 101us/step - loss: 0.6900 - acc: 0.7994 - val_loss: 1.7937 - val_acc: 0.6740\n",
      "Epoch 18/20\n",
      "7982/7982 [==============================] - 1s 93us/step - loss: 0.6725 - acc: 0.8036 - val_loss: 1.8875 - val_acc: 0.6690\n",
      "Epoch 19/20\n",
      "7982/7982 [==============================] - 1s 89us/step - loss: 0.6557 - acc: 0.8053 - val_loss: 1.9003 - val_acc: 0.6680\n",
      "Epoch 20/20\n",
      "7982/7982 [==============================] - 1s 91us/step - loss: 0.6450 - acc: 0.8104 - val_loss: 1.8668 - val_acc: 0.6690\n"
     ]
    },
    {
     "data": {
      "text/plain": [
       "<keras.callbacks.History at 0x7fb06ab9dac8>"
      ]
     },
     "execution_count": 169,
     "metadata": {},
     "output_type": "execute_result"
    }
   ],
   "source": [
    "model = models.Sequential()\n",
    "model.add(layers.Dense(64, activation='relu', input_shape=(10000,)))\n",
    "model.add(layers.Dense(4, activation='relu'))\n",
    "model.add(layers.Dense(46, activation='softmax'))\n",
    "\n",
    "model.compile(optimizer='rmsprop',\n",
    "              loss='categorical_crossentropy',\n",
    "              metrics=['accuracy'])\n",
    "model.fit(partial_x_train,\n",
    "          partial_y_train,\n",
    "          epochs=20,\n",
    "          batch_size=128,\n",
    "          validation_data=(x_val, y_val))"
   ]
  },
  {
   "cell_type": "markdown",
   "metadata": {},
   "source": [
    "上面的网络的验证精度最大约为68%，比前面下降了13%。导致这一下降的主要原因在于，我们试图将大量信息（这些信息足够恢复46个类别的分割超平面）压缩到维度很小的中间空间。网络能够将 __大部分__ 必要信息塞入这个四维表示中，但并不是全部信息。"
   ]
  }
 ],
 "metadata": {
  "kernelspec": {
   "display_name": "Python 3",
   "language": "python",
   "name": "python3"
  },
  "language_info": {
   "codemirror_mode": {
    "name": "ipython",
    "version": 3
   },
   "file_extension": ".py",
   "mimetype": "text/x-python",
   "name": "python",
   "nbconvert_exporter": "python",
   "pygments_lexer": "ipython3",
   "version": "3.5.2"
  }
 },
 "nbformat": 4,
 "nbformat_minor": 2
}
